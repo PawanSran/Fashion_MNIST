{
 "cells": [
  {
   "cell_type": "code",
   "execution_count": 1,
   "metadata": {},
   "outputs": [
    {
     "name": "stdout",
     "output_type": "stream",
     "text": [
      "Requirement already satisfied: tensorflow_datasets in /Users/pawanjeetkaur/opt/anaconda3/lib/python3.8/site-packages (4.0.0)\n",
      "Requirement already satisfied: future in /Users/pawanjeetkaur/opt/anaconda3/lib/python3.8/site-packages (from tensorflow_datasets) (0.18.2)\n",
      "Requirement already satisfied: importlib-resources; python_version < \"3.9\" in /Users/pawanjeetkaur/opt/anaconda3/lib/python3.8/site-packages (from tensorflow_datasets) (3.0.0)\n",
      "Requirement already satisfied: dm-tree in /Users/pawanjeetkaur/opt/anaconda3/lib/python3.8/site-packages (from tensorflow_datasets) (0.1.5)\n",
      "Requirement already satisfied: numpy in /Users/pawanjeetkaur/opt/anaconda3/lib/python3.8/site-packages (from tensorflow_datasets) (1.18.5)\n",
      "Requirement already satisfied: termcolor in /Users/pawanjeetkaur/opt/anaconda3/lib/python3.8/site-packages (from tensorflow_datasets) (1.1.0)\n",
      "Requirement already satisfied: tqdm in /Users/pawanjeetkaur/opt/anaconda3/lib/python3.8/site-packages (from tensorflow_datasets) (4.47.0)\n",
      "Requirement already satisfied: requests>=2.19.0 in /Users/pawanjeetkaur/opt/anaconda3/lib/python3.8/site-packages (from tensorflow_datasets) (2.20.0)\n",
      "Requirement already satisfied: protobuf>=3.6.1 in /Users/pawanjeetkaur/opt/anaconda3/lib/python3.8/site-packages (from tensorflow_datasets) (3.13.0)\n",
      "Requirement already satisfied: dill in /Users/pawanjeetkaur/opt/anaconda3/lib/python3.8/site-packages (from tensorflow_datasets) (0.3.2)\n",
      "Requirement already satisfied: attrs>=18.1.0 in /Users/pawanjeetkaur/opt/anaconda3/lib/python3.8/site-packages (from tensorflow_datasets) (19.3.0)\n",
      "Requirement already satisfied: six in /Users/pawanjeetkaur/opt/anaconda3/lib/python3.8/site-packages (from tensorflow_datasets) (1.15.0)\n",
      "Requirement already satisfied: absl-py in /Users/pawanjeetkaur/opt/anaconda3/lib/python3.8/site-packages (from tensorflow_datasets) (0.10.0)\n",
      "Requirement already satisfied: promise in /Users/pawanjeetkaur/opt/anaconda3/lib/python3.8/site-packages (from tensorflow_datasets) (2.3)\n",
      "Requirement already satisfied: tensorflow-metadata in /Users/pawanjeetkaur/opt/anaconda3/lib/python3.8/site-packages (from tensorflow_datasets) (0.24.0)\n",
      "Requirement already satisfied: chardet<3.1.0,>=3.0.2 in /Users/pawanjeetkaur/opt/anaconda3/lib/python3.8/site-packages (from requests>=2.19.0->tensorflow_datasets) (3.0.4)\n",
      "Requirement already satisfied: idna<2.8,>=2.5 in /Users/pawanjeetkaur/opt/anaconda3/lib/python3.8/site-packages (from requests>=2.19.0->tensorflow_datasets) (2.7)\n",
      "Requirement already satisfied: certifi>=2017.4.17 in /Users/pawanjeetkaur/opt/anaconda3/lib/python3.8/site-packages (from requests>=2.19.0->tensorflow_datasets) (2020.6.20)\n",
      "Requirement already satisfied: urllib3<1.25,>=1.21.1 in /Users/pawanjeetkaur/opt/anaconda3/lib/python3.8/site-packages (from requests>=2.19.0->tensorflow_datasets) (1.24.3)\n",
      "Requirement already satisfied: setuptools in /Users/pawanjeetkaur/opt/anaconda3/lib/python3.8/site-packages (from protobuf>=3.6.1->tensorflow_datasets) (49.2.0.post20200714)\n",
      "Requirement already satisfied: googleapis-common-protos<2,>=1.52.0 in /Users/pawanjeetkaur/opt/anaconda3/lib/python3.8/site-packages (from tensorflow-metadata->tensorflow_datasets) (1.52.0)\n"
     ]
    }
   ],
   "source": [
    "!pip install tensorflow_datasets"
   ]
  },
  {
   "cell_type": "code",
   "execution_count": 2,
   "metadata": {},
   "outputs": [
    {
     "name": "stdout",
     "output_type": "stream",
     "text": [
      "Epoch 1/50\n",
      "1875/1875 [==============================] - 2s 1ms/step - loss: 0.5173 - accuracy: 0.8185\n",
      "Epoch 2/50\n",
      "1875/1875 [==============================] - 2s 1ms/step - loss: 0.4034 - accuracy: 0.8564\n",
      "Epoch 3/50\n",
      "1875/1875 [==============================] - 2s 1ms/step - loss: 0.3692 - accuracy: 0.8668\n",
      "Epoch 4/50\n",
      "1875/1875 [==============================] - 2s 1ms/step - loss: 0.3523 - accuracy: 0.8716\n",
      "Epoch 5/50\n",
      "1875/1875 [==============================] - 2s 1ms/step - loss: 0.3326 - accuracy: 0.8784\n",
      "Epoch 6/50\n",
      "1875/1875 [==============================] - 2s 1ms/step - loss: 0.3217 - accuracy: 0.8834\n",
      "Epoch 7/50\n",
      "1875/1875 [==============================] - 2s 1ms/step - loss: 0.3091 - accuracy: 0.8863\n",
      "Epoch 8/50\n",
      "1875/1875 [==============================] - 2s 1ms/step - loss: 0.3007 - accuracy: 0.8901\n",
      "Epoch 9/50\n",
      "1875/1875 [==============================] - 2s 1ms/step - loss: 0.2939 - accuracy: 0.8927\n",
      "Epoch 10/50\n",
      "1875/1875 [==============================] - 2s 1ms/step - loss: 0.2882 - accuracy: 0.8931\n",
      "Epoch 11/50\n",
      "1875/1875 [==============================] - 2s 1ms/step - loss: 0.2821 - accuracy: 0.8961: 0s - los\n",
      "Epoch 12/50\n",
      "1875/1875 [==============================] - 2s 1ms/step - loss: 0.2742 - accuracy: 0.8990\n",
      "Epoch 13/50\n",
      "1875/1875 [==============================] - 2s 1ms/step - loss: 0.2690 - accuracy: 0.9009\n",
      "Epoch 14/50\n",
      "1875/1875 [==============================] - 2s 1ms/step - loss: 0.2645 - accuracy: 0.9013\n",
      "Epoch 15/50\n",
      "1875/1875 [==============================] - 2s 1ms/step - loss: 0.2571 - accuracy: 0.9039\n",
      "Epoch 16/50\n",
      "1875/1875 [==============================] - 2s 1ms/step - loss: 0.2543 - accuracy: 0.9065\n",
      "Epoch 17/50\n",
      "1875/1875 [==============================] - 2s 1ms/step - loss: 0.2496 - accuracy: 0.9069\n",
      "Epoch 18/50\n",
      "1875/1875 [==============================] - 2s 1ms/step - loss: 0.2483 - accuracy: 0.9079\n",
      "Epoch 19/50\n",
      "1875/1875 [==============================] - 2s 1ms/step - loss: 0.2424 - accuracy: 0.9097\n",
      "Epoch 20/50\n",
      "1875/1875 [==============================] - 2s 1ms/step - loss: 0.2424 - accuracy: 0.9093\n",
      "Epoch 21/50\n",
      "1875/1875 [==============================] - 2s 1ms/step - loss: 0.2370 - accuracy: 0.9131\n",
      "Epoch 22/50\n",
      "1875/1875 [==============================] - 2s 1ms/step - loss: 0.2331 - accuracy: 0.9134\n",
      "Epoch 23/50\n",
      "1875/1875 [==============================] - 2s 1ms/step - loss: 0.2295 - accuracy: 0.9153\n",
      "Epoch 24/50\n",
      "1875/1875 [==============================] - 2s 1ms/step - loss: 0.2306 - accuracy: 0.9143\n",
      "Epoch 25/50\n",
      "1875/1875 [==============================] - 2s 1ms/step - loss: 0.2272 - accuracy: 0.9164\n",
      "Epoch 26/50\n",
      "1875/1875 [==============================] - 2s 1ms/step - loss: 0.2215 - accuracy: 0.9174\n",
      "Epoch 27/50\n",
      "1875/1875 [==============================] - 2s 1ms/step - loss: 0.2185 - accuracy: 0.9181\n",
      "Epoch 28/50\n",
      "1875/1875 [==============================] - 2s 1ms/step - loss: 0.2157 - accuracy: 0.9194\n",
      "Epoch 29/50\n",
      "1875/1875 [==============================] - 2s 1ms/step - loss: 0.2156 - accuracy: 0.9201\n",
      "Epoch 30/50\n",
      "1875/1875 [==============================] - 2s 1ms/step - loss: 0.2120 - accuracy: 0.9210\n",
      "Epoch 31/50\n",
      "1875/1875 [==============================] - 2s 1ms/step - loss: 0.2115 - accuracy: 0.9212\n",
      "Epoch 32/50\n",
      "1875/1875 [==============================] - 2s 1ms/step - loss: 0.2091 - accuracy: 0.9233\n",
      "Epoch 33/50\n",
      "1875/1875 [==============================] - 2s 1ms/step - loss: 0.2034 - accuracy: 0.9247\n",
      "Epoch 34/50\n",
      "1875/1875 [==============================] - 2s 1ms/step - loss: 0.2039 - accuracy: 0.9232\n",
      "Epoch 35/50\n",
      "1875/1875 [==============================] - 2s 1ms/step - loss: 0.2028 - accuracy: 0.9245\n",
      "Epoch 36/50\n",
      "1875/1875 [==============================] - 2s 1ms/step - loss: 0.1993 - accuracy: 0.9261\n",
      "Epoch 37/50\n",
      "1875/1875 [==============================] - 2s 1ms/step - loss: 0.1977 - accuracy: 0.9270\n",
      "Epoch 38/50\n",
      "1875/1875 [==============================] - 2s 1ms/step - loss: 0.1946 - accuracy: 0.9273\n",
      "Epoch 39/50\n",
      "1875/1875 [==============================] - 2s 1ms/step - loss: 0.1926 - accuracy: 0.9283\n",
      "Epoch 40/50\n",
      "1875/1875 [==============================] - 2s 1ms/step - loss: 0.1919 - accuracy: 0.9287\n",
      "Epoch 41/50\n",
      "1875/1875 [==============================] - 2s 1ms/step - loss: 0.1927 - accuracy: 0.9278\n",
      "Epoch 42/50\n",
      "1875/1875 [==============================] - 2s 1ms/step - loss: 0.1881 - accuracy: 0.9306\n",
      "Epoch 43/50\n",
      "1875/1875 [==============================] - 2s 1ms/step - loss: 0.1857 - accuracy: 0.9307\n",
      "Epoch 44/50\n",
      "1875/1875 [==============================] - 2s 1ms/step - loss: 0.1843 - accuracy: 0.9324\n",
      "Epoch 45/50\n",
      "1875/1875 [==============================] - 2s 1ms/step - loss: 0.1835 - accuracy: 0.9322\n",
      "Epoch 46/50\n",
      "1875/1875 [==============================] - 2s 1ms/step - loss: 0.1799 - accuracy: 0.9327\n",
      "Epoch 47/50\n",
      "1875/1875 [==============================] - 2s 1ms/step - loss: 0.1797 - accuracy: 0.9335\n",
      "Epoch 48/50\n",
      "1875/1875 [==============================] - 2s 1ms/step - loss: 0.1732 - accuracy: 0.9365\n",
      "Epoch 49/50\n",
      "1875/1875 [==============================] - 2s 1ms/step - loss: 0.1757 - accuracy: 0.9352\n",
      "Epoch 50/50\n",
      "1875/1875 [==============================] - 2s 1ms/step - loss: 0.1740 - accuracy: 0.9347\n"
     ]
    },
    {
     "data": {
      "text/plain": [
       "<tensorflow.python.keras.callbacks.History at 0x15f2d0af0>"
      ]
     },
     "execution_count": 2,
     "metadata": {},
     "output_type": "execute_result"
    }
   ],
   "source": [
    "import tensorflow as tf\n",
    "import tensorflow_datasets as tfds\n",
    "from tensorflow import keras\n",
    "import numpy as np\n",
    "from tensorflow.keras.models import Sequential\n",
    "from tensorflow.keras.layers import Flatten, Dense, LeakyReLU\n",
    "from tensorflow.keras.optimizers import Adam, RMSprop, SGD, Adagrad\n",
    "import matplotlib.pyplot as plt\n",
    "from tensorflow.keras.utils import get_custom_objects\n",
    "import pickle\n",
    "\n",
    "(x_train ,y_train), (x_test,y_test) = keras.datasets.fashion_mnist.load_data()\n",
    "x_test = x_test/255.0\n",
    "x_train = x_train/255.0\n",
    "\n",
    "#get_custom_objects().update({'leakyrelu': Activation(LeakyReLU)})\n",
    "#adding leakyrelu directly as a layer but not as activation function due to below error\n",
    "#https://github.com/tensorflow/tfjs/issues/1093\n",
    "model_LeakyReLU = Sequential([\n",
    "  Flatten(input_shape=(28, 28, 1)),\n",
    "  Dense(128), #Hidden layer ,activation=\"leakyrelu\"\n",
    "  LeakyReLU(),\n",
    "  Dense(10, activation='softmax') #output layer\n",
    "])\n",
    "\n",
    "model_LeakyReLU.compile( loss='sparse_categorical_crossentropy', optimizer=Adam(0.001), metrics=['accuracy'], )\n",
    "\n",
    "model_LeakyReLU.fit( x_train,y_train, epochs=50)"
   ]
  },
  {
   "cell_type": "code",
   "execution_count": 3,
   "metadata": {},
   "outputs": [],
   "source": [
    "img_class_key = {\n",
    "    0: 't-shirt',\n",
    "    1: 'pants',\n",
    "    2: 'pullover',\n",
    "    3: 'dress',\n",
    "    4: 'coat',\n",
    "    5: 'sandal',\n",
    "    6: 'shirt',\n",
    "    7: 'sneakers',\n",
    "    8: 'handbag',\n",
    "    9: 'boot'\n",
    "}"
   ]
  },
  {
   "cell_type": "code",
   "execution_count": 4,
   "metadata": {},
   "outputs": [
    {
     "name": "stdout",
     "output_type": "stream",
     "text": [
      "WARNING:tensorflow:From <ipython-input-4-d14c43f6f1f2>:1: Sequential.predict_classes (from tensorflow.python.keras.engine.sequential) is deprecated and will be removed after 2021-01-01.\n",
      "Instructions for updating:\n",
      "Please use instead:* `np.argmax(model.predict(x), axis=-1)`,   if your model does multi-class classification   (e.g. if it uses a `softmax` last-layer activation).* `(model.predict(x) > 0.5).astype(\"int32\")`,   if your model does binary classification   (e.g. if it uses a `sigmoid` last-layer activation).\n",
      "(10000,)\n",
      "(10000,)\n",
      "[9 2 1 ... 8 1 5]\n"
     ]
    }
   ],
   "source": [
    "y_test_pred = model_LeakyReLU.predict_classes(x_test)\n",
    "y_test_classed = np.nonzero(y_test)\n",
    "print(y_test.shape)\n",
    "print(y_test_pred.shape)\n",
    "print(y_test)"
   ]
  },
  {
   "cell_type": "code",
   "execution_count": 5,
   "metadata": {},
   "outputs": [
    {
     "name": "stdout",
     "output_type": "stream",
     "text": [
      "WARNING:tensorflow:From /Users/pawanjeetkaur/opt/anaconda3/lib/python3.8/site-packages/tensorflow/python/training/tracking/tracking.py:111: Model.state_updates (from tensorflow.python.keras.engine.training) is deprecated and will be removed in a future version.\n",
      "Instructions for updating:\n",
      "This property should not be used in TensorFlow 2.0, as updates are applied automatically.\n",
      "WARNING:tensorflow:From /Users/pawanjeetkaur/opt/anaconda3/lib/python3.8/site-packages/tensorflow/python/training/tracking/tracking.py:111: Layer.updates (from tensorflow.python.keras.engine.base_layer) is deprecated and will be removed in a future version.\n",
      "Instructions for updating:\n",
      "This property should not be used in TensorFlow 2.0, as updates are applied automatically.\n",
      "INFO:tensorflow:Assets written to: clf_new.pb/assets\n"
     ]
    }
   ],
   "source": [
    "model_LeakyReLU.save('clf_new.pb')"
   ]
  },
  {
   "cell_type": "code",
   "execution_count": 6,
   "metadata": {},
   "outputs": [],
   "source": [
    "model_LeakyReLU.save('clf_new.h5')"
   ]
  },
  {
   "cell_type": "code",
   "execution_count": 20,
   "metadata": {},
   "outputs": [
    {
     "name": "stdout",
     "output_type": "stream",
     "text": [
      "(28, 28)\n"
     ]
    }
   ],
   "source": [
    "#for k in test:\n",
    "#test_im = x_test[400]\n",
    "#print(test_im.shape)\n",
    "#from PIL import Image\n",
    "#import numpy as np\n",
    "\n",
    "\n",
    "#data = test_im.reshape(28,28,1)\n",
    "#test_im[1, 756] = [255, 0, 0]\n",
    "#img = Image.fromarray(test_im)\n",
    "#img.save('test.png')\n",
    "#img.show()\n"
   ]
  },
  {
   "cell_type": "code",
   "execution_count": null,
   "metadata": {},
   "outputs": [],
   "source": []
  }
 ],
 "metadata": {
  "kernelspec": {
   "display_name": "Python 3",
   "language": "python",
   "name": "python3"
  },
  "language_info": {
   "codemirror_mode": {
    "name": "ipython",
    "version": 3
   },
   "file_extension": ".py",
   "mimetype": "text/x-python",
   "name": "python",
   "nbconvert_exporter": "python",
   "pygments_lexer": "ipython3",
   "version": "3.8.3"
  }
 },
 "nbformat": 4,
 "nbformat_minor": 4
}
